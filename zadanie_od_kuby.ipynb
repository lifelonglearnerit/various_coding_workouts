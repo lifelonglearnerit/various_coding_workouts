{
  "nbformat": 4,
  "nbformat_minor": 0,
  "metadata": {
    "colab": {
      "name": "zadanie_od_kuby.ipynb",
      "provenance": [],
      "authorship_tag": "ABX9TyOlY7cScGfQRYuuFY+C7gtr",
      "include_colab_link": true
    },
    "kernelspec": {
      "name": "python3",
      "display_name": "Python 3"
    },
    "language_info": {
      "name": "python"
    }
  },
  "cells": [
    {
      "cell_type": "markdown",
      "metadata": {
        "id": "view-in-github",
        "colab_type": "text"
      },
      "source": [
        "<a href=\"https://colab.research.google.com/github/lifelonglearnerit/various_coding_workouts/blob/main/zadanie_od_kuby.ipynb\" target=\"_parent\"><img src=\"https://colab.research.google.com/assets/colab-badge.svg\" alt=\"Open In Colab\"/></a>"
      ]
    },
    {
      "cell_type": "markdown",
      "source": [
        "Stwórz słownik przechowujący 5 dowolnych nr PESEL jako klucze i do każdego z nich przypisz cechy osób o podanym PESELu w formie kolejnego słownika (cechy te to: kolor_oczu, imie, nazwisko, wiek), czyli możliwa by była operacja:\n",
        "\n",
        "\n",
        "Za pomocą pętli for dodaj do każdej wartości w słowniku (która jest kolejnym słownikiem) nowy klucz (imię_matki) oraz nadaj odpowiednie wartości\n",
        "Usuń z słownika osoby, których pesel kończy się na znak ‘1’.\n",
        "Wydrukuj zawartość słownika w przyjaznej formie (w komunikacie mają nie wyświetlać się klamry {})"
      ],
      "metadata": {
        "id": "TOLO424YMXi-"
      }
    },
    {
      "cell_type": "code",
      "source": [
        "PESEL = {'12345678911': {'kolor_oczu': 'niebieskie', 'imie': 'bonawentura', 'nazwisko': 'brzoszczewsky', 'wiek': 41},\n",
        "         '12345678912': {'kolor_oczu': 'zielone', 'imie': 'waldemar', 'nazwisko': 'celinski', 'wiek': 19},\n",
        "         '12345678913': {'kolor_oczu': 'biale', 'imie': 'wladyslaw', 'nazwisko': 'kowalski', 'wiek': 21},\n",
        "         '12345678914': {'kolor_oczu': 'szare', 'imie': 'apolinary', 'nazwisko': 'olsen', 'wiek': 46},\n",
        "         '12345678221': {'kolor_oczu': 'czarne', 'imie': 'czeslaw', 'nazwisko': 'vassenden', 'wiek': 35}}\n",
        "\n",
        "IMIONA = ['maria', 'madalena', 'genowefa', 'pelania', 'wladyslawa']\n",
        "\n",
        "def wydruk(slownik: dict):\n",
        "    for pesel in slownik:\n",
        "        print('Klucz: ' + pesel +  'Wartosc: ', end='')\n",
        "        print(*[str(k) + ':' + str(v) for k, v in slownik[pesel].items()])\n",
        "\n",
        "def usun_wpis(slownik: dict):\n",
        "    do_usuniecia = list()\n",
        "    for pesel in slownik:\n",
        "        if pesel[-1] == '1':\n",
        "            do_usuniecia.append(pesel)\n",
        "            \n",
        "    for zbedny_pesel in do_usuniecia: \n",
        "        del slownik[zbedny_pesel]\n",
        "    wydruk(slownik)\n",
        "\n",
        "def imie_matki(slownik: dict, lista_imion: list):       \n",
        "    for pesel, imie in zip(PESEL, IMIONA): \n",
        "        PESEL[pesel]['imie_matki'] = imie\n",
        "    usun_wpis(PESEL)\n",
        "\n",
        "imie_matki(PESEL, IMIONA)\n",
        "\n"
      ],
      "metadata": {
        "colab": {
          "base_uri": "https://localhost:8080/"
        },
        "id": "UOAOdWa7MaHL",
        "outputId": "b9021df1-5c61-4381-f01d-d5057a83e5cb"
      },
      "execution_count": null,
      "outputs": [
        {
          "output_type": "stream",
          "name": "stdout",
          "text": [
            "Klucz: 12345678912Wartosc: kolor_oczu:zielone imie:waldemar nazwisko:celinski wiek:19 imie_matki:madalena\n",
            "Klucz: 12345678913Wartosc: kolor_oczu:biale imie:wladyslaw nazwisko:kowalski wiek:21 imie_matki:genowefa\n",
            "Klucz: 12345678914Wartosc: kolor_oczu:szare imie:apolinary nazwisko:olsen wiek:46 imie_matki:pelania\n"
          ]
        }
      ]
    }
  ]
}